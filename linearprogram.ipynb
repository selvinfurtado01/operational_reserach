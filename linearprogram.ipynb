{
 "cells": [
  {
   "cell_type": "code",
   "execution_count": 1,
   "metadata": {},
   "outputs": [
    {
     "name": "stdout",
     "output_type": "stream",
     "text": [
      "Note: you may need to restart the kernel to use updated packages.\n"
     ]
    },
    {
     "name": "stderr",
     "output_type": "stream",
     "text": [
      "\n",
      "[notice] A new release of pip is available: 24.0 -> 24.3.1\n",
      "[notice] To update, run: python.exe -m pip install --upgrade pip\n"
     ]
    },
    {
     "name": "stdout",
     "output_type": "stream",
     "text": [
      "Collecting gurobipy\n",
      "  Downloading gurobipy-12.0.0-cp312-cp312-win_amd64.whl.metadata (16 kB)\n",
      "Downloading gurobipy-12.0.0-cp312-cp312-win_amd64.whl (11.1 MB)\n",
      "   ---------------------------------------- 0.0/11.1 MB ? eta -:--:--\n",
      "   ---------------------------------------- 0.0/11.1 MB ? eta -:--:--\n",
      "   ---------------------------------------- 0.0/11.1 MB 217.9 kB/s eta 0:00:51\n",
      "   ---------------------------------------- 0.1/11.1 MB 435.7 kB/s eta 0:00:26\n",
      "    --------------------------------------- 0.2/11.1 MB 1.5 MB/s eta 0:00:08\n",
      "   -- ------------------------------------- 0.7/11.1 MB 3.5 MB/s eta 0:00:03\n",
      "   --- ------------------------------------ 0.9/11.1 MB 3.7 MB/s eta 0:00:03\n",
      "   ---- ----------------------------------- 1.4/11.1 MB 5.1 MB/s eta 0:00:02\n",
      "   ------ --------------------------------- 1.8/11.1 MB 5.4 MB/s eta 0:00:02\n",
      "   -------- ------------------------------- 2.3/11.1 MB 6.2 MB/s eta 0:00:02\n",
      "   ---------- ----------------------------- 2.9/11.1 MB 6.8 MB/s eta 0:00:02\n",
      "   ----------- ---------------------------- 3.2/11.1 MB 6.9 MB/s eta 0:00:02\n",
      "   ------------- -------------------------- 3.9/11.1 MB 7.4 MB/s eta 0:00:01\n",
      "   --------------- ------------------------ 4.2/11.1 MB 7.5 MB/s eta 0:00:01\n",
      "   ----------------- ---------------------- 4.8/11.1 MB 8.0 MB/s eta 0:00:01\n",
      "   ------------------- -------------------- 5.5/11.1 MB 8.3 MB/s eta 0:00:01\n",
      "   --------------------- ------------------ 6.0/11.1 MB 8.5 MB/s eta 0:00:01\n",
      "   ----------------------- ---------------- 6.6/11.1 MB 8.8 MB/s eta 0:00:01\n",
      "   ------------------------ --------------- 6.8/11.1 MB 8.6 MB/s eta 0:00:01\n",
      "   ------------------------ --------------- 6.8/11.1 MB 8.6 MB/s eta 0:00:01\n",
      "   ------------------------ --------------- 6.8/11.1 MB 7.8 MB/s eta 0:00:01\n",
      "   --------------------------- ------------ 7.7/11.1 MB 8.2 MB/s eta 0:00:01\n",
      "   ---------------------------- ----------- 8.0/11.1 MB 8.1 MB/s eta 0:00:01\n",
      "   ------------------------------- -------- 8.6/11.1 MB 8.4 MB/s eta 0:00:01\n",
      "   --------------------------------- ------ 9.2/11.1 MB 8.6 MB/s eta 0:00:01\n",
      "   ----------------------------------- ---- 9.9/11.1 MB 8.8 MB/s eta 0:00:01\n",
      "   -------------------------------------- - 10.6/11.1 MB 10.2 MB/s eta 0:00:01\n",
      "   ---------------------------------------  11.1/11.1 MB 10.6 MB/s eta 0:00:01\n",
      "   ---------------------------------------  11.1/11.1 MB 10.6 MB/s eta 0:00:01\n",
      "   ---------------------------------------- 11.1/11.1 MB 9.6 MB/s eta 0:00:00\n",
      "Installing collected packages: gurobipy\n",
      "Successfully installed gurobipy-12.0.0\n"
     ]
    }
   ],
   "source": [
    "# Installing Module Gurobipy\n",
    "pip install gurobipy"
   ]
  },
  {
   "cell_type": "code",
   "execution_count": 2,
   "metadata": {},
   "outputs": [],
   "source": [
    "from gurobipy import GRB \n",
    "import gurobipy as gb"
   ]
  },
  {
   "cell_type": "markdown",
   "metadata": {},
   "source": [
    "## Maximize Profits- Packaging"
   ]
  },
  {
   "cell_type": "code",
   "execution_count": 3,
   "metadata": {},
   "outputs": [
    {
     "name": "stdout",
     "output_type": "stream",
     "text": [
      "Restricted license - for non-production use only - expires 2026-11-23\n"
     ]
    }
   ],
   "source": [
    "model = gb.Model('Linear Programming Gurobi')"
   ]
  },
  {
   "cell_type": "code",
   "execution_count": 4,
   "metadata": {},
   "outputs": [],
   "source": [
    "# Create the three classes of decision variables (type A, B, and C)\n",
    "a = model.addVar(lb=0, vtype=GRB.CONTINUOUS, name=\"Type A\")\n",
    "b = model.addVar(lb=0, vtype=GRB.CONTINUOUS, name=\"Type B\")\n",
    "c = model.addVar(lb=0, vtype=GRB.CONTINUOUS, name=\"Type C\")"
   ]
  },
  {
   "cell_type": "code",
   "execution_count": 5,
   "metadata": {},
   "outputs": [],
   "source": [
    "# The objective function\n",
    "model.setObjective(60*a + 75*b + 80*c, GRB.MAXIMIZE)"
   ]
  },
  {
   "cell_type": "code",
   "execution_count": 6,
   "metadata": {},
   "outputs": [
    {
     "data": {
      "text/plain": [
       "<gurobi.Constr *Awaiting Model Update*>"
      ]
     },
     "execution_count": 6,
     "metadata": {},
     "output_type": "execute_result"
    }
   ],
   "source": [
    "# Add the constraints\n",
    "model.addConstr(2*a + 1.5*b + 3*c <= 10000, \"Assembly Constraint\")\n",
    "model.addConstr(a + 2*b + c <= 5000, \"Package Constraint\")"
   ]
  },
  {
   "cell_type": "code",
   "execution_count": 7,
   "metadata": {},
   "outputs": [
    {
     "data": {
      "text/plain": [
       "<gurobi.Constr *Awaiting Model Update*>"
      ]
     },
     "execution_count": 7,
     "metadata": {},
     "output_type": "execute_result"
    }
   ],
   "source": [
    "# We could also define these constraints as upper bounds in the definition of the decision variables\n",
    "model.addConstr(a <= 3000, \"Order Limit Constraint (Type A)\")\n",
    "model.addConstr(b <= 2000, \"Order Limit Constraint (Type B)\")\n",
    "model.addConstr(c <= 900, \"Order Limit Constraint (Type C)\")"
   ]
  },
  {
   "cell_type": "code",
   "execution_count": 8,
   "metadata": {},
   "outputs": [
    {
     "name": "stdout",
     "output_type": "stream",
     "text": [
      "Gurobi Optimizer version 12.0.0 build v12.0.0rc1 (win64 - Windows 11.0 (26100.2))\n",
      "\n",
      "CPU model: Intel(R) Core(TM) i7-9750H CPU @ 2.60GHz, instruction set [SSE2|AVX|AVX2]\n",
      "Thread count: 6 physical cores, 12 logical processors, using up to 12 threads\n",
      "\n",
      "Optimize a model with 5 rows, 3 columns and 9 nonzeros\n",
      "Model fingerprint: 0x4d176d43\n",
      "Coefficient statistics:\n",
      "  Matrix range     [1e+00, 3e+00]\n",
      "  Objective range  [6e+01, 8e+01]\n",
      "  Bounds range     [0e+00, 0e+00]\n",
      "  RHS range        [9e+02, 1e+04]\n",
      "Presolve removed 3 rows and 0 columns\n",
      "Presolve time: 0.01s\n",
      "Presolved: 2 rows, 3 columns, 6 nonzeros\n",
      "\n",
      "Iteration    Objective       Primal Inf.    Dual Inf.      Time\n",
      "       0    5.0000000e+05   2.208333e+03   0.000000e+00      0s\n",
      "       3    2.9325000e+05   0.000000e+00   0.000000e+00      0s\n",
      "\n",
      "Solved in 3 iterations and 0.03 seconds (0.00 work units)\n",
      "Optimal objective  2.932500000e+05\n"
     ]
    }
   ],
   "source": [
    "# Optimally solve the problem\n",
    "model.optimize()"
   ]
  },
  {
   "cell_type": "code",
   "execution_count": 10,
   "metadata": {},
   "outputs": [
    {
     "name": "stdout",
     "output_type": "stream",
     "text": [
      "Number of Decision Variables:  3\n",
      "Model Status:  2\n",
      "Maximum Profit:  293250.0\n",
      "\n",
      "    Variable            X \n",
      "-------------------------\n",
      "      Type A         3000 \n",
      "      Type B          550 \n",
      "      Type C          900 \n",
      "Non-zero Decision variables:  None\n"
     ]
    }
   ],
   "source": [
    "# Number of variables in the model\n",
    "print(\"Number of Decision Variables: \", model.numVars)\n",
    "\n",
    "# The status of the model (Optimization Status Codes)\n",
    "print(\"Model Status: \", model.status)\n",
    "\n",
    "# Print the objective\n",
    "print(\"Maximum Profit: \", model.ObjVal)\n",
    "\n",
    "# Print the decision variables\n",
    "print(\"Non-zero Decision variables: \", model.printAttr('X'))"
   ]
  },
  {
   "cell_type": "markdown",
   "metadata": {},
   "source": [
    "## Minimize Distance-Groves and Processing Plants"
   ]
  },
  {
   "cell_type": "code",
   "execution_count": 11,
   "metadata": {},
   "outputs": [],
   "source": [
    "# Create the optimization model\n",
    "model = gb.Model(\"Transportation Problem\")"
   ]
  },
  {
   "cell_type": "code",
   "execution_count": 12,
   "metadata": {},
   "outputs": [],
   "source": [
    "# A list of list of costs\n",
    "costs = [[21, 50, 40], [35, 30, 22], [55, 20, 25]]\n",
    "supply = [275000, 400000, 300000]\n",
    "demand = [200000, 600000, 225000]"
   ]
  },
  {
   "cell_type": "code",
   "execution_count": 13,
   "metadata": {},
   "outputs": [],
   "source": [
    "# Create the a single class of decision variables\n",
    "x = model.addVars(3, 3, lb=0, vtype=GRB.CONTINUOUS, name=\"Transportation Plan\")"
   ]
  },
  {
   "cell_type": "code",
   "execution_count": 14,
   "metadata": {},
   "outputs": [],
   "source": [
    "# The objective function\n",
    "model.setObjective(gb.quicksum(costs[i][j]*x[i,j] for i in range(3) for j in range(3)), GRB.MINIMIZE)"
   ]
  },
  {
   "cell_type": "code",
   "execution_count": 15,
   "metadata": {},
   "outputs": [],
   "source": [
    "# Add the supply constraints\n",
    "for i in range(3):\n",
    "    model.addConstr(gb.quicksum(x[i,j] for j in range(3)) == supply[i], name=\"Supply Constraint %i\" %i)"
   ]
  },
  {
   "cell_type": "code",
   "execution_count": 16,
   "metadata": {},
   "outputs": [],
   "source": [
    "# Add the demand constraints\n",
    "for j in range(3):\n",
    "    model.addConstr(gb.quicksum(x[i,j] for i in range(3)) <= demand[j], name=\"Demand Constraint %i\" %j)"
   ]
  },
  {
   "cell_type": "code",
   "execution_count": 17,
   "metadata": {},
   "outputs": [
    {
     "name": "stdout",
     "output_type": "stream",
     "text": [
      "Gurobi Optimizer version 12.0.0 build v12.0.0rc1 (win64 - Windows 11.0 (26100.2))\n",
      "\n",
      "CPU model: Intel(R) Core(TM) i7-9750H CPU @ 2.60GHz, instruction set [SSE2|AVX|AVX2]\n",
      "Thread count: 6 physical cores, 12 logical processors, using up to 12 threads\n",
      "\n",
      "Optimize a model with 6 rows, 9 columns and 18 nonzeros\n",
      "Model fingerprint: 0x43d91904\n",
      "Coefficient statistics:\n",
      "  Matrix range     [1e+00, 1e+00]\n",
      "  Objective range  [2e+01, 6e+01]\n",
      "  Bounds range     [0e+00, 0e+00]\n",
      "  RHS range        [2e+05, 6e+05]\n",
      "Presolve time: 0.02s\n",
      "Presolved: 6 rows, 9 columns, 18 nonzeros\n",
      "\n",
      "Iteration    Objective       Primal Inf.    Dual Inf.      Time\n",
      "       0    2.0575000e+07   2.500000e+05   0.000000e+00      0s\n",
      "       2    2.4000000e+07   0.000000e+00   0.000000e+00      0s\n",
      "\n",
      "Solved in 2 iterations and 0.03 seconds (0.00 work units)\n",
      "Optimal objective  2.400000000e+07\n"
     ]
    }
   ],
   "source": [
    "# Optimally solve the problem\n",
    "model.optimize()"
   ]
  },
  {
   "cell_type": "code",
   "execution_count": 18,
   "metadata": {},
   "outputs": [
    {
     "name": "stdout",
     "output_type": "stream",
     "text": [
      "Number of Decision Variables:  9\n",
      "Total Transportation cost:  24000000.0\n",
      "\n",
      "    Variable            X \n",
      "-------------------------\n",
      "Transportation Plan[0,0]       200000 \n",
      "Transportation Plan[0,2]        75000 \n",
      "Transportation Plan[1,1]       250000 \n",
      "Transportation Plan[1,2]       150000 \n",
      "Transportation Plan[2,1]       300000 \n",
      "Non-zero Decision variables:  None\n"
     ]
    }
   ],
   "source": [
    "# Number of variables in the model\n",
    "print(\"Number of Decision Variables: \", model.numVars)\n",
    "\n",
    "# Value of the objective function\n",
    "print(\"Total Transportation cost: \", model.objVal)\n",
    "\n",
    "# Print the decision variables\n",
    "print(\"Non-zero Decision variables: \", model.printAttr('X'))"
   ]
  },
  {
   "cell_type": "markdown",
   "metadata": {},
   "source": [
    "## Minimize Shipping Cost-TransShipment"
   ]
  },
  {
   "cell_type": "code",
   "execution_count": 19,
   "metadata": {},
   "outputs": [],
   "source": [
    "# Create the optimization model\n",
    "model = gb.Model(\"Transshipment Problem\")"
   ]
  },
  {
   "cell_type": "code",
   "execution_count": 20,
   "metadata": {},
   "outputs": [],
   "source": [
    "# A list of list of costs\n",
    "source_costs = [[11, 10, 26, 29], [9, 12, 27, 26]]\n",
    "trans_costs = [[12, 16], [13, 15]]"
   ]
  },
  {
   "cell_type": "code",
   "execution_count": 21,
   "metadata": {},
   "outputs": [],
   "source": [
    "# Create the a single class of decision variables where\n",
    "\n",
    "# From = {𝑫𝒂,𝑯𝒐} and To = {𝑪𝒉,𝑳𝑨,𝑺𝑭,𝑵𝒀}.\n",
    "x = model.addVars(2, 4, lb=0, vtype=GRB.CONTINUOUS, name=\"Source Nodes\")\n",
    "\n",
    "# From = {𝑪𝒉,𝑳𝑨} and To = {𝑺𝑭,𝑵𝒀}.\n",
    "y = model.addVars(2, 2, lb=0, vtype=GRB.CONTINUOUS, name=\"Transshipment Nodes\")"
   ]
  },
  {
   "cell_type": "code",
   "execution_count": 22,
   "metadata": {},
   "outputs": [],
   "source": [
    "# The objective function\n",
    "source_objective = gb.quicksum(source_costs[i][j]*x[i,j] for i in range(2) for j in range(4))\n",
    "trans_objective = gb.quicksum(trans_costs[i][j]*y[i,j] for i in range(2) for j in range(2))\n",
    "model.setObjective(source_objective + trans_objective, GRB.MINIMIZE)"
   ]
  },
  {
   "cell_type": "code",
   "execution_count": 23,
   "metadata": {},
   "outputs": [
    {
     "data": {
      "text/plain": [
       "<gurobi.Constr *Awaiting Model Update*>"
      ]
     },
     "execution_count": 23,
     "metadata": {},
     "output_type": "execute_result"
    }
   ],
   "source": [
    "# Add the supply constraints from source nodes\n",
    "model.addConstr(gb.quicksum(x[0,j] for j in range(4)) <= 200, name=\"Supply Constraint 1\")\n",
    "model.addConstr(gb.quicksum(x[1,j] for j in range(4)) <= 160, name=\"Supply Constraint 2\")"
   ]
  },
  {
   "cell_type": "code",
   "execution_count": 24,
   "metadata": {},
   "outputs": [
    {
     "data": {
      "text/plain": [
       "<gurobi.Constr *Awaiting Model Update*>"
      ]
     },
     "execution_count": 24,
     "metadata": {},
     "output_type": "execute_result"
    }
   ],
   "source": [
    "# Add the supply constraints from transshipment nodes\n",
    "model.addConstr(gb.quicksum(x[i,0] for i in range(2)) <= 90, name=\"Transship Capacity 1\")\n",
    "model.addConstr(gb.quicksum(x[i,1] for i in range(2)) <= 80, name=\"Transship Capacity 2\")"
   ]
  },
  {
   "cell_type": "code",
   "execution_count": 25,
   "metadata": {},
   "outputs": [
    {
     "data": {
      "text/plain": [
       "<gurobi.Constr *Awaiting Model Update*>"
      ]
     },
     "execution_count": 25,
     "metadata": {},
     "output_type": "execute_result"
    }
   ],
   "source": [
    "# Add the flow balance constrainits\n",
    "model.addConstr(gb.quicksum(x[i,0] for i in range(2)) == gb.quicksum(y[0,k] for k in range(2)), name=\"Flow Balance 1\")\n",
    "model.addConstr(gb.quicksum(x[i,1] for i in range(2)) == gb.quicksum(y[1,k] for k in range(2)), name=\"Flow Balance 2\")"
   ]
  },
  {
   "cell_type": "code",
   "execution_count": 26,
   "metadata": {},
   "outputs": [
    {
     "data": {
      "text/plain": [
       "<gurobi.Constr *Awaiting Model Update*>"
      ]
     },
     "execution_count": 26,
     "metadata": {},
     "output_type": "execute_result"
    }
   ],
   "source": [
    "# Add the demand constraints\n",
    "model.addConstr(gb.quicksum(x[i,2] + y[i,0] for i in range(2)) == 140, name=\"Demand Constraint 1\")\n",
    "model.addConstr(gb.quicksum(x[i,3] + y[i,1] for i in range(2)) == 140, name=\"Demand Constraint 2\")"
   ]
  },
  {
   "cell_type": "code",
   "execution_count": 27,
   "metadata": {},
   "outputs": [
    {
     "data": {
      "text/plain": [
       "<gurobi.Constr *Awaiting Model Update*>"
      ]
     },
     "execution_count": 27,
     "metadata": {},
     "output_type": "execute_result"
    }
   ],
   "source": [
    "# Ratio constraint\n",
    "model.addConstr(0.6*gb.quicksum(y[i,j] for i in range(2) for j in range(2)) <= 0.4*gb.quicksum(x[i,j] for i in range(2) for j in range(2,4)), name=\"Ratio constraint\")"
   ]
  },
  {
   "cell_type": "code",
   "execution_count": 28,
   "metadata": {},
   "outputs": [
    {
     "name": "stdout",
     "output_type": "stream",
     "text": [
      "Gurobi Optimizer version 12.0.0 build v12.0.0rc1 (win64 - Windows 11.0 (26100.2))\n",
      "\n",
      "CPU model: Intel(R) Core(TM) i7-9750H CPU @ 2.60GHz, instruction set [SSE2|AVX|AVX2]\n",
      "Thread count: 6 physical cores, 12 logical processors, using up to 12 threads\n",
      "\n",
      "Optimize a model with 9 rows, 12 columns and 36 nonzeros\n",
      "Model fingerprint: 0x828d4180\n",
      "Coefficient statistics:\n",
      "  Matrix range     [4e-01, 1e+00]\n",
      "  Objective range  [9e+00, 3e+01]\n",
      "  Bounds range     [0e+00, 0e+00]\n",
      "  RHS range        [8e+01, 2e+02]\n",
      "Presolve time: 0.01s\n",
      "Presolved: 9 rows, 12 columns, 36 nonzeros\n",
      "\n",
      "Iteration    Objective       Primal Inf.    Dual Inf.      Time\n",
      "       0    3.7800000e+03   4.480000e+02   0.000000e+00      0s\n",
      "       5    6.9040000e+03   0.000000e+00   0.000000e+00      0s\n",
      "\n",
      "Solved in 5 iterations and 0.02 seconds (0.00 work units)\n",
      "Optimal objective  6.904000000e+03\n"
     ]
    }
   ],
   "source": [
    "# Optimally solve the problem\n",
    "model.optimize()"
   ]
  },
  {
   "cell_type": "code",
   "execution_count": 30,
   "metadata": {},
   "outputs": [
    {
     "name": "stdout",
     "output_type": "stream",
     "text": [
      "Number of Decision Variables:  12\n",
      "Total Transportation cost:  6904.0\n",
      "Total Transportation cost:  6904.0\n",
      "\n",
      "    Variable            X \n",
      "-------------------------\n",
      "Source Nodes[0,1]           46 \n",
      "Source Nodes[0,2]           74 \n",
      "Source Nodes[1,0]           66 \n",
      "Source Nodes[1,3]           94 \n",
      "Transshipment Nodes[0,0]           66 \n",
      "Transshipment Nodes[1,1]           46 \n",
      "Non-zero Decision variables:  None\n"
     ]
    }
   ],
   "source": [
    "# Number of variables in the model\n",
    "print(\"Number of Decision Variables: \", model.numVars)\n",
    "\n",
    "# Value of the objective function\n",
    "print(\"Total Transportation cost: \", source_objective.getValue() + trans_objective.getValue())\n",
    "print(\"Total Transportation cost: \", model.ObjVal)\n",
    "\n",
    "# Print the decision variables\n",
    "print(\"Non-zero Decision variables: \", model.printAttr('X'))"
   ]
  },
  {
   "cell_type": "markdown",
   "metadata": {},
   "source": [
    "## Maximize Amount-Tower Research"
   ]
  },
  {
   "cell_type": "code",
   "execution_count": 31,
   "metadata": {},
   "outputs": [],
   "source": [
    "# Create the optimization model\n",
    "model = gb.Model(\"Tower Research\")"
   ]
  },
  {
   "cell_type": "code",
   "execution_count": 32,
   "metadata": {},
   "outputs": [],
   "source": [
    "# Create the three classes of decision variables where each Python\n",
    "# variable represents a different number of Gurobi decision variables\n",
    "I = model.addVars(2, lb=0, vtype=GRB.CONTINUOUS, name=\"Invest\")\n",
    "B = model.addVars(3, lb=0, vtype=GRB.CONTINUOUS, name=\"Borrow\")\n",
    "w = model.addVars(4, lb=0, vtype=GRB.CONTINUOUS, name=\"Wealth\")"
   ]
  },
  {
   "cell_type": "code",
   "execution_count": 33,
   "metadata": {},
   "outputs": [],
   "source": [
    "# The objective function\n",
    "model.setObjective(w[3], GRB.MAXIMIZE)"
   ]
  },
  {
   "cell_type": "code",
   "execution_count": 34,
   "metadata": {},
   "outputs": [
    {
     "data": {
      "text/plain": [
       "<gurobi.Constr *Awaiting Model Update*>"
      ]
     },
     "execution_count": 34,
     "metadata": {},
     "output_type": "execute_result"
    }
   ],
   "source": [
    "# Add the constraints\n",
    "model.addConstr(w[0] == 4000 + 1000 + B[0] - 1200 - I[0], \"Period 1 Constraint\")\n",
    "model.addConstr(w[1] == w[0] + B[1] + 4400 - 1.03*B[0] - 4800 - I[1], \"Period 1 Constraint\")\n",
    "model.addConstr(w[2] == w[1] + B[2] + 5800 + 1.02*I[0] - 4212 - 1.03*B[1], \"Period 2 Constraint\")\n",
    "model.addConstr(w[3] == w[2] + 3000 + 1.02*I[1] - 1000 - 1.03*B[2], \"Period 3 Constraint\")"
   ]
  },
  {
   "cell_type": "code",
   "execution_count": 35,
   "metadata": {},
   "outputs": [],
   "source": [
    "# We could also define these constraints as upper bounds in the definition of the decision variables\n",
    "for t in range(3):\n",
    "    model.addConstr(B[t] <= 3000, \"Borrowing Constraint %i\" % t)"
   ]
  },
  {
   "cell_type": "code",
   "execution_count": 36,
   "metadata": {},
   "outputs": [
    {
     "name": "stdout",
     "output_type": "stream",
     "text": [
      "Gurobi Optimizer version 12.0.0 build v12.0.0rc1 (win64 - Windows 11.0 (26100.2))\n",
      "\n",
      "CPU model: Intel(R) Core(TM) i7-9750H CPU @ 2.60GHz, instruction set [SSE2|AVX|AVX2]\n",
      "Thread count: 6 physical cores, 12 logical processors, using up to 12 threads\n",
      "\n",
      "Optimize a model with 7 rows, 9 columns and 20 nonzeros\n",
      "Model fingerprint: 0x3ff2f1ed\n",
      "Coefficient statistics:\n",
      "  Matrix range     [1e+00, 1e+00]\n",
      "  Objective range  [1e+00, 1e+00]\n",
      "  Bounds range     [0e+00, 0e+00]\n",
      "  RHS range        [4e+02, 4e+03]\n",
      "Presolve removed 3 rows and 0 columns\n",
      "Presolve time: 0.01s\n",
      "Presolved: 4 rows, 9 columns, 17 nonzeros\n",
      "\n",
      "Iteration    Objective       Primal Inf.    Dual Inf.      Time\n",
      "       0    3.2544513e+04   5.244513e+03   0.000000e+00      0s\n",
      "       2    7.0560000e+03   0.000000e+00   0.000000e+00      0s\n",
      "\n",
      "Solved in 2 iterations and 0.02 seconds (0.00 work units)\n",
      "Optimal objective  7.056000000e+03\n"
     ]
    }
   ],
   "source": [
    "# Optimally solve the problem\n",
    "model.optimize()"
   ]
  },
  {
   "cell_type": "code",
   "execution_count": 37,
   "metadata": {},
   "outputs": [
    {
     "name": "stdout",
     "output_type": "stream",
     "text": [
      "Number of Constraints:  7\n",
      "Model Status:  2\n",
      "\n",
      "    Variable            X \n",
      "-------------------------\n",
      "   Invest[1]         3400 \n",
      "   Wealth[0]         3800 \n",
      "   Wealth[2]         1588 \n",
      "   Wealth[3]         7056 \n",
      "None\n",
      "Total costs:  7056.0\n"
     ]
    }
   ],
   "source": [
    "# Number of constraints in the model\n",
    "print(\"Number of Constraints: \", model.numConstrs)\n",
    "\n",
    "# The status of the model\n",
    "print(\"Model Status: \", model.status)\n",
    "\n",
    "# Print the decision variables\n",
    "print(model.printAttr('X'))\n",
    "\n",
    "# Value of the objective function\n",
    "print(\"Total costs: \", model.objVal)"
   ]
  },
  {
   "cell_type": "code",
   "execution_count": null,
   "metadata": {},
   "outputs": [],
   "source": []
  },
  {
   "cell_type": "code",
   "execution_count": null,
   "metadata": {},
   "outputs": [],
   "source": []
  },
  {
   "cell_type": "code",
   "execution_count": null,
   "metadata": {},
   "outputs": [],
   "source": []
  },
  {
   "cell_type": "code",
   "execution_count": null,
   "metadata": {},
   "outputs": [],
   "source": []
  },
  {
   "cell_type": "code",
   "execution_count": null,
   "metadata": {},
   "outputs": [],
   "source": []
  },
  {
   "cell_type": "code",
   "execution_count": null,
   "metadata": {},
   "outputs": [],
   "source": []
  },
  {
   "cell_type": "code",
   "execution_count": null,
   "metadata": {},
   "outputs": [],
   "source": []
  },
  {
   "cell_type": "code",
   "execution_count": null,
   "metadata": {},
   "outputs": [],
   "source": []
  },
  {
   "cell_type": "code",
   "execution_count": null,
   "metadata": {},
   "outputs": [],
   "source": []
  },
  {
   "cell_type": "code",
   "execution_count": null,
   "metadata": {},
   "outputs": [],
   "source": []
  },
  {
   "cell_type": "code",
   "execution_count": null,
   "metadata": {},
   "outputs": [],
   "source": []
  },
  {
   "cell_type": "code",
   "execution_count": null,
   "metadata": {},
   "outputs": [],
   "source": []
  },
  {
   "cell_type": "code",
   "execution_count": null,
   "metadata": {},
   "outputs": [],
   "source": []
  },
  {
   "cell_type": "code",
   "execution_count": null,
   "metadata": {},
   "outputs": [],
   "source": []
  },
  {
   "cell_type": "code",
   "execution_count": null,
   "metadata": {},
   "outputs": [],
   "source": []
  }
 ],
 "metadata": {
  "kernelspec": {
   "display_name": "Python 3",
   "language": "python",
   "name": "python3"
  },
  "language_info": {
   "codemirror_mode": {
    "name": "ipython",
    "version": 3
   },
   "file_extension": ".py",
   "mimetype": "text/x-python",
   "name": "python",
   "nbconvert_exporter": "python",
   "pygments_lexer": "ipython3",
   "version": "3.12.4"
  }
 },
 "nbformat": 4,
 "nbformat_minor": 2
}
